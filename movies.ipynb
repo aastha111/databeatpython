{
 "cells": [
  {
   "cell_type": "code",
   "execution_count": 8,
   "id": "2cd3e073",
   "metadata": {},
   "outputs": [
    {
     "data": {
      "text/plain": [
       "0     {'cast': ['Jeff Bridges', 'Bruce Boxleitner', ...\n",
       "1     {'cast': ['Eric Stoltz', 'Julie Delpy', 'Jean-...\n",
       "2     {'cast': ['Bruce Dern', 'Cliff Potts', 'Ron Ri...\n",
       "3     {'cast': ['Ron Rifkin', 'Eddie Barth', 'Charle...\n",
       "4     {'cast': ['Margaret Rutherford', 'Ron Moody', ...\n",
       "5     {'cast': ['Radha Mitchell', 'Sean Bean', 'Jode...\n",
       "6     {'cast': ['Mike Myers', 'Eddie Murphy', 'Camer...\n",
       "7     {'cast': ['Andy Griffith', 'Ron Howard', 'Fran...\n",
       "8     {'cast': ['Jane Russell', 'Marilyn Monroe', 'C...\n",
       "9     {'cast': ['Mike Myers', 'Eddie Murphy', 'Camer...\n",
       "10    {'cast': ['Juliette Binoche', 'Alfred Molina',...\n",
       "11    {'cast': ['Stephen Baldwin', 'Kevin Spacey', '...\n",
       "12    {'cast': ['Tom Cruise', 'Kelly McGillis', 'Val...\n",
       "13    {'cast': ['Richard Dreyfuss', 'Ron Howard', 'P...\n",
       "14    {'cast': ['Warwick Davis', 'Val Kilmer', 'Joan...\n",
       "15    {'cast': ['Clint Eastwood', 'Gene Hackman', 'M...\n",
       "16    {'cast': ['Jennifer Beals', 'Michael Nouri', '...\n",
       "17    {'cast': ['Brad Pitt', 'Robert De Niro', 'Kevi...\n",
       "18    {'cast': ['Zach Braff', 'Natalie Portman', 'Ia...\n",
       "19    {'cast': ['Angelina Jolie', 'Brad Pitt', 'Adam...\n",
       "20    {'cast': ['Tobin Bell', 'Costas Mandylor', 'Sc...\n",
       "21    {'cast': ['Nicole Kidman', 'Matt Dillon', 'Joa...\n",
       "22    {'cast': ['Roger Moore', 'Christopher Walken',...\n",
       "23    {'cast': ['Kevin Costner', 'Tommy Lee Jones', ...\n",
       "24    {'cast': ['Arnold Schwarzenegger', 'Linda Hami...\n",
       "25    {'cast': ['Dave Annable', 'Calista Flockhart',...\n",
       "26    {'cast': ['Bruce Campbell', 'Embeth Davidtz', ...\n",
       "27    {'cast': ['Sharon Stone', 'Jeanne Tripplehorn'...\n",
       "28    {'cast': ['Richard Roundtree', 'Moses Gunn', '...\n",
       "29    {'cast': ['Julia Roberts', 'Albert Finney', 'A...\n",
       "30    {'cast': ['Charlie Sheen', 'Willem Dafoe', 'Jo...\n",
       "31    {'cast': ['Marlon Brando', 'Al Pacino', 'James...\n",
       "32    {'cast': ['Macaulay Culkin', 'Joe Pesci', 'Dan...\n",
       "33    {'cast': ['Tim Robbins', 'Morgan Freeman', 'Bo...\n",
       "34    {'cast': ['Harrison Ford', 'Kate Capshaw', 'Jo...\n",
       "35    {'cast': ['Robert De Niro', 'James Woods', 'El...\n",
       "36    {'cast': ['Jodie Foster', 'Anthony Hopkins', '...\n",
       "37    {'cast': ['Al Pacino', 'Diane Keaton', 'Talia ...\n",
       "38    {'cast': ['Bill Murray', 'Dan Aykroyd', 'Sigou...\n",
       "39    {'cast': ['Tobey Maguire', 'Willem Dafoe', 'Ki...\n",
       "40    {'cast': ['Elijah Wood', 'Ian McKellen', 'Vigg...\n",
       "41    {'cast': ['Ben Affleck', 'Jon Voight', 'Tom Si...\n",
       "42    {'cast': ['Mark Hamill', 'Harrison Ford', 'Car...\n",
       "43    {'cast': ['Bruce Willis', 'Milla Jovovich', 'G...\n",
       "44    {'cast': ['Samuel L. Jackson', 'Vanessa Willia...\n",
       "45    {'cast': ['Leonardo DiCaprio', 'Kate Winslet',...\n",
       "46    {'cast': ['Will Smith', 'Bill Pullman', 'Jeff ...\n",
       "Name: _source, dtype: object"
      ]
     },
     "execution_count": 8,
     "metadata": {},
     "output_type": "execute_result"
    }
   ],
   "source": [
    "import pandas as pd\n",
    "df = pd.read_csv(\"C:\\\\Users\\\\Windows\\\\Downloads\\\\data.csv\")\n",
    "df._source\n"
   ]
  },
  {
   "cell_type": "code",
   "execution_count": null,
   "id": "0c28e8bf",
   "metadata": {},
   "outputs": [],
   "source": []
  }
 ],
 "metadata": {
  "kernelspec": {
   "display_name": "Python 3 (ipykernel)",
   "language": "python",
   "name": "python3"
  },
  "language_info": {
   "codemirror_mode": {
    "name": "ipython",
    "version": 3
   },
   "file_extension": ".py",
   "mimetype": "text/x-python",
   "name": "python",
   "nbconvert_exporter": "python",
   "pygments_lexer": "ipython3",
   "version": "3.9.7"
  }
 },
 "nbformat": 4,
 "nbformat_minor": 5
}
